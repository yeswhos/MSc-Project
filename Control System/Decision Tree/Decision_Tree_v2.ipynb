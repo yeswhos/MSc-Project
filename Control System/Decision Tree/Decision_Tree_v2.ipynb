{
  "nbformat": 4,
  "nbformat_minor": 0,
  "metadata": {
    "colab": {
      "name": "Decision Tree v2.ipynb",
      "provenance": [],
      "authorship_tag": "ABX9TyO88JVMWHCuwKE/ZDrAsTLh",
      "include_colab_link": true
    },
    "kernelspec": {
      "name": "python3",
      "display_name": "Python 3"
    }
  },
  "cells": [
    {
      "cell_type": "markdown",
      "metadata": {
        "id": "view-in-github",
        "colab_type": "text"
      },
      "source": [
        "<a href=\"https://colab.research.google.com/github/yeswhos/MSc-Project/blob/master/Control%20System/Decision%20Tree/Decision_Tree_v2.ipynb\" target=\"_parent\"><img src=\"https://colab.research.google.com/assets/colab-badge.svg\" alt=\"Open In Colab\"/></a>"
      ]
    },
    {
      "cell_type": "code",
      "metadata": {
        "id": "CpC_xVKjXr5k",
        "colab_type": "code",
        "colab": {
          "base_uri": "https://localhost:8080/",
          "height": 122
        },
        "outputId": "38730c14-c275-4fbc-c916-c09d5e54a9bb"
      },
      "source": [
        "from google.colab import drive\n",
        "drive.mount('/content/drive')\n",
        "#filepath = \"drive/My Drive/lenses.txt\""
      ],
      "execution_count": 1,
      "outputs": [
        {
          "output_type": "stream",
          "text": [
            "Go to this URL in a browser: https://accounts.google.com/o/oauth2/auth?client_id=947318989803-6bn6qk8qdgf4n4g3pfee6491hc0brc4i.apps.googleusercontent.com&redirect_uri=urn%3aietf%3awg%3aoauth%3a2.0%3aoob&response_type=code&scope=email%20https%3a%2f%2fwww.googleapis.com%2fauth%2fdocs.test%20https%3a%2f%2fwww.googleapis.com%2fauth%2fdrive%20https%3a%2f%2fwww.googleapis.com%2fauth%2fdrive.photos.readonly%20https%3a%2f%2fwww.googleapis.com%2fauth%2fpeopleapi.readonly\n",
            "\n",
            "Enter your authorization code:\n",
            "··········\n",
            "Mounted at /content/drive\n"
          ],
          "name": "stdout"
        }
      ]
    },
    {
      "cell_type": "code",
      "metadata": {
        "id": "gf2hfn9F3loB",
        "colab_type": "code",
        "colab": {}
      },
      "source": [
        "def createDataSet():\n",
        "    dataSet = [[1, 1, 'YES'],\n",
        "          [1, 1, 'YES'],\n",
        "          [1, 0, 'NO'],\n",
        "          [0, 1, 'NO'],\n",
        "          [0, 1, 'NO']]\n",
        "    featNames = ['no surfacing','flippers']\n",
        "    return dataSet, featNames\n"
      ],
      "execution_count": 4,
      "outputs": []
    },
    {
      "cell_type": "code",
      "metadata": {
        "id": "3BBTYsJD07hV",
        "colab_type": "code",
        "colab": {}
      },
      "source": [
        "def createDataSet():\n",
        "    dataSet = [[0, 0, 'Hit it'],\n",
        "          [0, 1, 'Hit it'],\n",
        "          [0, 2, 'Hit it'],\n",
        "          [0, 3, 'Hit it'],\n",
        "          [1, 0, 'run away'],\n",
        "          [1, 1, 'hit it'],\n",
        "          [1, 2, 'hit it'],\n",
        "          [1, 3, 'Hit it'],\n",
        "          [2, 0, 'run away'],\n",
        "          [2, 1, 'run away'],\n",
        "          [2, 2, 'Hit it'],\n",
        "          [2, 3, 'Hit it'],\n",
        "          [3, 0, 'run away'],\n",
        "          [3, 1, 'run away'],\n",
        "          [3, 2, 'run away'],\n",
        "          [3, 3, 'hit it']]\n",
        "    featNames = ['Front left Sensor Left','Front Sensor Right']\n",
        "    return dataSet, featNames"
      ],
      "execution_count": 2,
      "outputs": []
    },
    {
      "cell_type": "code",
      "metadata": {
        "id": "A9MhBioHJ3xU",
        "colab_type": "code",
        "colab": {}
      },
      "source": [
        "from math import log\n",
        " \n",
        "def calcShannonEnt(dataSet):\n",
        "    numEntries = len(dataSet)\n",
        "    labelCounts = {}\n",
        "    for featVec in dataSet:\n",
        "        currentLabel = featVec[-1]\n",
        "        if currentLabel not in labelCounts.keys(): labelCounts[currentLabel] = 0\n",
        "        labelCounts[currentLabel] += 1\n",
        "    shannonEnt = 0.0\n",
        "    for key in labelCounts:\n",
        "        prob = float(labelCounts[key])/numEntries\n",
        "        shannonEnt -= prob * log(prob, 2)\n",
        "    return shannonEnt\n"
      ],
      "execution_count": 4,
      "outputs": []
    },
    {
      "cell_type": "code",
      "metadata": {
        "id": "DlVRQYQCKBqJ",
        "colab_type": "code",
        "colab": {}
      },
      "source": [
        "def splitDataSet(dataSet, axis, value):\n",
        "    retDataSet = []\n",
        "    for featVec in dataSet:\n",
        "        if featVec[axis] == value:\n",
        "            reducedFeatVec = featVec[:axis]  # chop out axis used for splitting\n",
        "            reducedFeatVec.extend(featVec[axis + 1:])\n",
        "            retDataSet.append(reducedFeatVec)\n",
        "    return retDataSet\n"
      ],
      "execution_count": 5,
      "outputs": []
    },
    {
      "cell_type": "code",
      "metadata": {
        "id": "Ouj6aVPRKEYB",
        "colab_type": "code",
        "colab": {
          "base_uri": "https://localhost:8080/",
          "height": 51
        },
        "outputId": "a04058b2-e803-4958-d45a-3956a98637c3"
      },
      "source": [
        "\n",
        "dataSet, feats = createDataSet()\n",
        "print(splitDataSet(dataSet, 0, 1)) #按特征0划分，特征值为1\n",
        "print(splitDataSet(dataSet, 0, 0))"
      ],
      "execution_count": 6,
      "outputs": [
        {
          "output_type": "stream",
          "text": [
            "[[0, 'run away'], [1, 'hit it'], [2, 'hit it'], [3, 'Hit it']]\n",
            "[[0, 'Hit it'], [1, 'Hit it'], [2, 'Hit it'], [3, 'Hit it']]\n"
          ],
          "name": "stdout"
        }
      ]
    },
    {
      "cell_type": "code",
      "metadata": {
        "id": "busuz9xcLZzf",
        "colab_type": "code",
        "colab": {}
      },
      "source": [
        "def chooseBestFeatureToSplit(dataSet):\n",
        "    numFeatures = len(dataSet[0]) - 1  #每条数据的特征数量\n",
        "    baseEntropy = calcShannonEnt(dataSet)  #划分前的熵\n",
        "    bestInfoGain = 0.0;  #记录最高信息增益\n",
        "    bestFeature = -1  #记录最佳特征\n",
        "    for i in range(numFeatures):  #遍历每个特征\n",
        "        featList = [data[i] for data in dataSet]  #把所有数据的该特征值抽出来放到一个list里面\n",
        "        uniqueVals = set(featList)  #利用set找出该特征所有不同的值\n",
        "        newEntropy = 0.0\n",
        "        for value in uniqueVals:  #按这些不同的特征值，分别划分成子数据集\n",
        "            subDataSet = splitDataSet(dataSet, i, value)\n",
        "            prob = len(subDataSet) / float(len(dataSet))  #子数据集的权重\n",
        "            newEntropy += prob * calcShannonEnt(subDataSet)  #子数据集的权重*熵\n",
        "        infoGain = baseEntropy - newEntropy  #计算信息增益\n",
        "        if infoGain > bestInfoGain:  #更新最高信息增益和最佳特征\n",
        "            bestInfoGain = infoGain\n",
        "            bestFeature = i\n",
        "    return bestFeature  #返回最佳特征的下标\n"
      ],
      "execution_count": 7,
      "outputs": []
    },
    {
      "cell_type": "code",
      "metadata": {
        "id": "Ck8cnpPCLdDH",
        "colab_type": "code",
        "colab": {
          "base_uri": "https://localhost:8080/",
          "height": 34
        },
        "outputId": "907fdb9b-c74f-42cc-9b2f-c4c1fe71e295"
      },
      "source": [
        "dataSet, feats = createDataSet()\n",
        "print(chooseBestFeatureToSplit(dataSet))"
      ],
      "execution_count": 9,
      "outputs": [
        {
          "output_type": "stream",
          "text": [
            "0\n"
          ],
          "name": "stdout"
        }
      ]
    },
    {
      "cell_type": "code",
      "metadata": {
        "id": "9J-uXv-oLjk4",
        "colab_type": "code",
        "colab": {}
      },
      "source": [
        "import operator\n",
        "def majorityCnt(classList):\n",
        "    classCount={}\n",
        "    for vote in classList:\n",
        "        if vote not in classCount.keys(): classCount[vote] = 0\n",
        "        classCount[vote] += 1\n",
        "    sortedClassCount = sorted(classCount.iteritems(), key=operator.itemgetter(1), reverse=True)\n",
        "    return sortedClassCount[0][0]\n"
      ],
      "execution_count": 10,
      "outputs": []
    },
    {
      "cell_type": "code",
      "metadata": {
        "id": "vNsJQRSrLm4P",
        "colab_type": "code",
        "colab": {}
      },
      "source": [
        "\n",
        "def createTree(dataSet, featNames):\n",
        "    classList = [data[-1] for data in dataSet]  #当前数据集的所有标签\n",
        "    if classList.count(classList[0]) == len(classList):  #如果这堆标签全都一样的话，返回这个标签。\n",
        "        return classList[0]\n",
        "    if len(dataSet[0]) == 1:  #如果当前数据集一个特征都不剩了，那就不用再划分下去了\n",
        "        return majorityCnt(classList)  #直接投票，返回出现次数最多的标签\n",
        "    bestFeat = chooseBestFeatureToSplit(dataSet)  #选出用于划分的最佳属性\n",
        "    bestFeatName = featNames[bestFeat]  #最佳属性的属性名称\n",
        "    myTree = {bestFeatName:{}}  #字典：记录最佳属性对应的标签种类、出现次数情况\n",
        "    del(featNames[bestFeat])  #在属性名称列表中剔除最佳属性\n",
        "    featValues = [data[bestFeat] for data in dataSet]  #当前数据集中最佳属性的所有属性值\n",
        "    uniqueVals = set(featValues) #最佳属性的不同属性值\n",
        "    for value in uniqueVals:\n",
        "        subfeatNames = featNames[:]  #去除最佳属性后的属性名称列表\n",
        "        # 构建最佳属性的值为value的子树\n",
        "        myTree[bestFeatName][value] = createTree(splitDataSet(dataSet, bestFeat, value),subfeatNames)\n",
        "    return myTree\n"
      ],
      "execution_count": 12,
      "outputs": []
    },
    {
      "cell_type": "code",
      "metadata": {
        "id": "zUNNrsSdLp5e",
        "colab_type": "code",
        "colab": {
          "base_uri": "https://localhost:8080/",
          "height": 54
        },
        "outputId": "a330a4d9-9ebf-4bd1-e0dc-ad7642e61aec"
      },
      "source": [
        "dataSet, feats = createDataSet()\n",
        "theTree = createTree(dataSet, feats)\n",
        "print(theTree)"
      ],
      "execution_count": 13,
      "outputs": [
        {
          "output_type": "stream",
          "text": [
            "{'Front left Sensor Left': {0: 'Hit it', 1: {'Front Sensor Right': {0: 'run away', 1: 'hit it', 2: 'hit it', 3: 'Hit it'}}, 2: {'Front Sensor Right': {0: 'run away', 1: 'run away', 2: 'Hit it', 3: 'Hit it'}}, 3: {'Front Sensor Right': {0: 'run away', 1: 'run away', 2: 'run away', 3: 'hit it'}}}}\n"
          ],
          "name": "stdout"
        }
      ]
    },
    {
      "cell_type": "code",
      "metadata": {
        "id": "bZZnODr0Lz1C",
        "colab_type": "code",
        "colab": {}
      },
      "source": [
        "\n",
        "def classify(inputTree,featNames,testVec):\n",
        "    #得换成list\n",
        "    firstStr = list(inputTree.keys())[0]  #当前树的根节点的特征名称\n",
        "    secondDict = inputTree[firstStr]  #根节点的所有子节点\n",
        "    featIndex = featNames.index(firstStr)  #找到根节点特征对应的下标\n",
        "    key = testVec[featIndex]  #找出待测数据的特征值\n",
        "    valueOfFeat = secondDict[key]  #拿这个特征值在根节点的子节点中查找，看它是不是叶节点\n",
        "    if isinstance(valueOfFeat, dict):  #如果不是叶节点\n",
        "        classLabel = classify(valueOfFeat, featNames, testVec)  #递归地进入下一层节点\n",
        "    else: classLabel = valueOfFeat  #如果是叶节点：确定待测数据的分类\n",
        "    return classLabel\n"
      ],
      "execution_count": 14,
      "outputs": []
    },
    {
      "cell_type": "code",
      "metadata": {
        "id": "17Fk2RDML3g1",
        "colab_type": "code",
        "colab": {
          "base_uri": "https://localhost:8080/",
          "height": 68
        },
        "outputId": "20892301-ba51-4871-a122-a9b876f6b533"
      },
      "source": [
        "dataSet, feats = createDataSet()\n",
        "feats_copy = feats[:]  #由于createTree函数会改变feats，所以先深复制一份feats\n",
        "theTree = createTree(dataSet, feats)\n",
        "# print feats_copy, '\\n', theTree\n",
        "# print classify(theTree, feats_copy, [1,0])\n",
        "# print classify(theTree, feats_copy, [1,1])\n",
        "print(feats_copy)\n",
        "print(theTree)\n",
        "print(classify(theTree, feats_copy, [1,0]))"
      ],
      "execution_count": 14,
      "outputs": [
        {
          "output_type": "stream",
          "text": [
            "['no surfacing', 'flippers']\n",
            "{'no surfacing': {0: 'NO', 1: {'flippers': {0: 'NO', 1: 'YES'}}}}\n",
            "NO\n"
          ],
          "name": "stdout"
        }
      ]
    },
    {
      "cell_type": "code",
      "metadata": {
        "id": "8Fu3Z1VZO8BV",
        "colab_type": "code",
        "colab": {}
      },
      "source": [
        "def storeTree(inputTree, filename):\n",
        "    import pickle\n",
        "    fw = open(filename, 'w')\n",
        "    pickle.dump(inputTree, fw)\n",
        "    fw.close()\n",
        "def grabTree(filename):\n",
        "    import pickle\n",
        "    fr = open(filename)\n",
        "    return pickle.load(fr)"
      ],
      "execution_count": 15,
      "outputs": []
    },
    {
      "cell_type": "code",
      "metadata": {
        "id": "1dsnFNkEPJZl",
        "colab_type": "code",
        "colab": {
          "base_uri": "https://localhost:8080/",
          "height": 237
        },
        "outputId": "c445fe2f-ea82-42e0-eb14-47f24292cd7d"
      },
      "source": [
        "# storeTree(theTree, 'storage.txt')\n",
        "# grabTree('storage.txt')\n",
        "theTree"
      ],
      "execution_count": 16,
      "outputs": [
        {
          "output_type": "execute_result",
          "data": {
            "text/plain": [
              "{'Front left Sensor Left': {0: 'Hit it',\n",
              "  1: {'Front Sensor Right': {0: 'run away',\n",
              "    1: 'hit it',\n",
              "    2: 'hit it',\n",
              "    3: 'Hit it'}},\n",
              "  2: {'Front Sensor Right': {0: 'run away',\n",
              "    1: 'run away',\n",
              "    2: 'Hit it',\n",
              "    3: 'Hit it'}},\n",
              "  3: {'Front Sensor Right': {0: 'run away',\n",
              "    1: 'run away',\n",
              "    2: 'run away',\n",
              "    3: 'hit it'}}}}"
            ]
          },
          "metadata": {
            "tags": []
          },
          "execution_count": 16
        }
      ]
    },
    {
      "cell_type": "code",
      "metadata": {
        "id": "0wXNNZdtgsGg",
        "colab_type": "code",
        "colab": {
          "base_uri": "https://localhost:8080/",
          "height": 71
        },
        "outputId": "1a8865f5-46f3-415d-c935-9117905ea232"
      },
      "source": [
        "import json\n",
        "\n",
        "b = json.dumps(theTree)\n",
        "print(b)\n",
        "print(type(b))\n",
        "# f2 = open('drive/My Drive/tree_json.json', 'w')\n",
        "# f2.write(b)\n",
        "# f2.close()"
      ],
      "execution_count": 22,
      "outputs": [
        {
          "output_type": "stream",
          "text": [
            "{\"Front left Sensor Left\": {\"0\": \"Hit it\", \"1\": {\"Front Sensor Right\": {\"0\": \"run away\", \"1\": \"hit it\", \"2\": \"hit it\", \"3\": \"Hit it\"}}, \"2\": {\"Front Sensor Right\": {\"0\": \"run away\", \"1\": \"run away\", \"2\": \"Hit it\", \"3\": \"Hit it\"}}, \"3\": {\"Front Sensor Right\": {\"0\": \"run away\", \"1\": \"run away\", \"2\": \"run away\", \"3\": \"hit it\"}}}}\n",
            "<class 'str'>\n"
          ],
          "name": "stdout"
        }
      ]
    }
  ]
}