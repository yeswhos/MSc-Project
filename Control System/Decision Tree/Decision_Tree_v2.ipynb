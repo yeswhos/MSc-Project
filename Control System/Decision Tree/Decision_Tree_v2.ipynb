{
  "nbformat": 4,
  "nbformat_minor": 0,
  "metadata": {
    "colab": {
      "name": "Decision Tree v2.ipynb",
      "provenance": [],
      "authorship_tag": "ABX9TyOrlwAIbA7ZXMCk1I+cpU6X",
      "include_colab_link": true
    },
    "kernelspec": {
      "name": "python3",
      "display_name": "Python 3"
    }
  },
  "cells": [
    {
      "cell_type": "markdown",
      "metadata": {
        "id": "view-in-github",
        "colab_type": "text"
      },
      "source": [
        "<a href=\"https://colab.research.google.com/github/yeswhos/MSc-Project/blob/master/Control%20System/Decision%20Tree/Decision_Tree_v2.ipynb\" target=\"_parent\"><img src=\"https://colab.research.google.com/assets/colab-badge.svg\" alt=\"Open In Colab\"/></a>"
      ]
    },
    {
      "cell_type": "code",
      "metadata": {
        "id": "CpC_xVKjXr5k",
        "colab_type": "code",
        "colab": {
          "base_uri": "https://localhost:8080/",
          "height": 122
        },
        "outputId": "2977ffd1-6180-4847-889d-c73da9251250"
      },
      "source": [
        "from google.colab import drive\n",
        "drive.mount('/content/drive')\n",
        "#filepath = \"drive/My Drive/lenses.txt\""
      ],
      "execution_count": 1,
      "outputs": [
        {
          "output_type": "stream",
          "text": [
            "Go to this URL in a browser: https://accounts.google.com/o/oauth2/auth?client_id=947318989803-6bn6qk8qdgf4n4g3pfee6491hc0brc4i.apps.googleusercontent.com&redirect_uri=urn%3aietf%3awg%3aoauth%3a2.0%3aoob&response_type=code&scope=email%20https%3a%2f%2fwww.googleapis.com%2fauth%2fdocs.test%20https%3a%2f%2fwww.googleapis.com%2fauth%2fdrive%20https%3a%2f%2fwww.googleapis.com%2fauth%2fdrive.photos.readonly%20https%3a%2f%2fwww.googleapis.com%2fauth%2fpeopleapi.readonly\n",
            "\n",
            "Enter your authorization code:\n",
            "··········\n",
            "Mounted at /content/drive\n"
          ],
          "name": "stdout"
        }
      ]
    },
    {
      "cell_type": "code",
      "metadata": {
        "id": "gf2hfn9F3loB",
        "colab_type": "code",
        "colab": {}
      },
      "source": [
        "# def createDataSet():\n",
        "#     dataSet = [[1, 1, 'YES'],\n",
        "#           [1, 1, 'YES'],\n",
        "#           [1, 0, 'NO'],\n",
        "#           [0, 1, 'NO'],\n",
        "#           [0, 1, 'NO']]\n",
        "#     featNames = ['no surfacing','flippers']\n",
        "#     return dataSet, featNames\n"
      ],
      "execution_count": null,
      "outputs": []
    },
    {
      "cell_type": "code",
      "metadata": {
        "id": "3BBTYsJD07hV",
        "colab_type": "code",
        "colab": {}
      },
      "source": [
        "# def createDataSet():\n",
        "#     dataSet = [[0, 0, 'Hit it'],\n",
        "#           [0, 1, 'Hit it'],\n",
        "#           [0, 2, 'Hit it'],\n",
        "#           [0, 3, 'Hit it'],\n",
        "#           [1, 0, 'run away'],\n",
        "#           [1, 1, 'hit it'],\n",
        "#           [1, 2, 'hit it'],\n",
        "#           [1, 3, 'Hit it'],\n",
        "#           [2, 0, 'run away'],\n",
        "#           [2, 1, 'run away'],\n",
        "#           [2, 2, 'Hit it'],\n",
        "#           [2, 3, 'Hit it'],\n",
        "#           [3, 0, 'run away'],\n",
        "#           [3, 1, 'run away'],\n",
        "#           [3, 2, 'run away'],\n",
        "#           [3, 3, 'hit it']]\n",
        "#     featNames = ['Front left Sensor Left','Front Sensor Right', 'line sensor 1', 'line sensor 2', 'line sensor3']\n",
        "#     return dataSet, featNames"
      ],
      "execution_count": null,
      "outputs": []
    },
    {
      "cell_type": "code",
      "metadata": {
        "id": "VE0NNUl4MIFr",
        "colab_type": "code",
        "colab": {}
      },
      "source": [
        "def createDataSet():\n",
        "    dataSet = [[0, 0, 1, 'Charge'],\n",
        "          [0, 1, 1, 'Charge'],\n",
        "          [0, 2, 1, 'Charge'],\n",
        "          [0, 3, 1, 'Charge'],\n",
        "          [0, 0, 0, 'No object seeing'],\n",
        "          [0, 1, 0, 'No object seeing'],\n",
        "          [0, 2, 0, 'Object seeing'],\n",
        "          [0, 3, 0, 'Object seeing'],\n",
        "\n",
        "          [1, 0, 1, 'Charge'],\n",
        "          [1, 1, 1, 'Charge'],\n",
        "          [1, 2, 1, 'Charge'],\n",
        "          [1, 3, 1, 'Charge'],\n",
        "          [1, 0, 0, 'No object seeing'],\n",
        "          [1, 1, 0, 'No object seeing'],\n",
        "          [1, 2, 0, 'Object seeing'],\n",
        "          [1, 3, 0, 'Object seeing'],\n",
        "\n",
        "          [2, 0, 1, 'Charge'],\n",
        "          [2, 1, 1, 'Charge'],\n",
        "          [2, 2, 1, 'Charge'],\n",
        "          [2, 3, 1, 'Charge'],\n",
        "          [2, 0, 0, 'Object seeing'],\n",
        "          [2, 1, 0, 'Object seeing'],\n",
        "          [2, 2, 0, 'Object seeing'],\n",
        "          [2, 3, 0, 'Object seeing'],\n",
        "\n",
        "\n",
        "          [3, 0, 1, 'Charge'],\n",
        "          [3, 1, 1, 'Charge'],\n",
        "          [3, 2, 1, 'Charge'],\n",
        "          [3, 3, 1, 'Charge'],\n",
        "          [3, 0, 0, 'Object seeing'],\n",
        "          [3, 1, 0, 'Object seeing'],\n",
        "          [3, 2, 0, 'Object seeing'],\n",
        "          [3, 3, 0, 'Object seeing']]\n",
        "    featNames = ['Front left Sensor Left','Front Sensor Right', 'Contact']\n",
        "    return dataSet, featNames"
      ],
      "execution_count": 4,
      "outputs": []
    },
    {
      "cell_type": "code",
      "metadata": {
        "id": "A9MhBioHJ3xU",
        "colab_type": "code",
        "colab": {}
      },
      "source": [
        "from math import log\n",
        " \n",
        "def calcShannonEnt(dataSet):\n",
        "    numEntries = len(dataSet)\n",
        "    labelCounts = {}\n",
        "    for featVec in dataSet:\n",
        "        currentLabel = featVec[-1]\n",
        "        if currentLabel not in labelCounts.keys(): labelCounts[currentLabel] = 0\n",
        "        labelCounts[currentLabel] += 1\n",
        "    shannonEnt = 0.0\n",
        "    for key in labelCounts:\n",
        "        prob = float(labelCounts[key])/numEntries\n",
        "        shannonEnt -= prob * log(prob, 2)\n",
        "    return shannonEnt\n"
      ],
      "execution_count": 5,
      "outputs": []
    },
    {
      "cell_type": "code",
      "metadata": {
        "id": "DlVRQYQCKBqJ",
        "colab_type": "code",
        "colab": {}
      },
      "source": [
        "def splitDataSet(dataSet, axis, value):\n",
        "    retDataSet = []\n",
        "    for featVec in dataSet:\n",
        "        if featVec[axis] == value:\n",
        "            reducedFeatVec = featVec[:axis]  # chop out axis used for splitting\n",
        "            reducedFeatVec.extend(featVec[axis + 1:])\n",
        "            retDataSet.append(reducedFeatVec)\n",
        "    return retDataSet\n"
      ],
      "execution_count": 6,
      "outputs": []
    },
    {
      "cell_type": "code",
      "metadata": {
        "id": "Ouj6aVPRKEYB",
        "colab_type": "code",
        "colab": {
          "base_uri": "https://localhost:8080/",
          "height": 51
        },
        "outputId": "a085ac81-2018-41ce-c655-c197e509ec8c"
      },
      "source": [
        "\n",
        "dataSet, feats = createDataSet()\n",
        "print(splitDataSet(dataSet, 0, 1)) #按特征0划分，特征值为1\n",
        "print(splitDataSet(dataSet, 0, 0))"
      ],
      "execution_count": 7,
      "outputs": [
        {
          "output_type": "stream",
          "text": [
            "[[0, 1, 'Charge'], [1, 1, 'Charge'], [2, 1, 'Charge'], [3, 1, 'Charge'], [0, 0, 'No object seeing'], [1, 0, 'No object seeing'], [2, 0, 'Object seeing'], [3, 0, 'Object seeing']]\n",
            "[[0, 1, 'Charge'], [1, 1, 'Charge'], [2, 1, 'Charge'], [3, 1, 'Charge'], [0, 0, 'No object seeing'], [1, 0, 'No object seeing'], [2, 0, 'Object seeing'], [3, 0, 'Object seeing']]\n"
          ],
          "name": "stdout"
        }
      ]
    },
    {
      "cell_type": "code",
      "metadata": {
        "id": "busuz9xcLZzf",
        "colab_type": "code",
        "colab": {}
      },
      "source": [
        "def chooseBestFeatureToSplit(dataSet):\n",
        "    numFeatures = len(dataSet[0]) - 1  #每条数据的特征数量\n",
        "    baseEntropy = calcShannonEnt(dataSet)  #划分前的熵\n",
        "    bestInfoGain = 0.0;  #记录最高信息增益\n",
        "    bestFeature = -1  #记录最佳特征\n",
        "    for i in range(numFeatures):  #遍历每个特征\n",
        "        featList = [data[i] for data in dataSet]  #把所有数据的该特征值抽出来放到一个list里面\n",
        "        uniqueVals = set(featList)  #利用set找出该特征所有不同的值\n",
        "        newEntropy = 0.0\n",
        "        for value in uniqueVals:  #按这些不同的特征值，分别划分成子数据集\n",
        "            subDataSet = splitDataSet(dataSet, i, value)\n",
        "            prob = len(subDataSet) / float(len(dataSet))  #子数据集的权重\n",
        "            newEntropy += prob * calcShannonEnt(subDataSet)  #子数据集的权重*熵\n",
        "        infoGain = baseEntropy - newEntropy  #计算信息增益\n",
        "        if infoGain > bestInfoGain:  #更新最高信息增益和最佳特征\n",
        "            bestInfoGain = infoGain\n",
        "            bestFeature = i\n",
        "    return bestFeature  #返回最佳特征的下标\n"
      ],
      "execution_count": 8,
      "outputs": []
    },
    {
      "cell_type": "code",
      "metadata": {
        "id": "Ck8cnpPCLdDH",
        "colab_type": "code",
        "colab": {
          "base_uri": "https://localhost:8080/",
          "height": 34
        },
        "outputId": "835a6fcc-659f-4306-9bd0-d90ce1a579e0"
      },
      "source": [
        "dataSet, feats = createDataSet()\n",
        "print(chooseBestFeatureToSplit(dataSet))"
      ],
      "execution_count": 9,
      "outputs": [
        {
          "output_type": "stream",
          "text": [
            "2\n"
          ],
          "name": "stdout"
        }
      ]
    },
    {
      "cell_type": "code",
      "metadata": {
        "id": "9J-uXv-oLjk4",
        "colab_type": "code",
        "colab": {}
      },
      "source": [
        "import operator\n",
        "def majorityCnt(classList):\n",
        "    classCount={}\n",
        "    for vote in classList:\n",
        "        if vote not in classCount.keys(): classCount[vote] = 0\n",
        "        classCount[vote] += 1\n",
        "    sortedClassCount = sorted(classCount.iteritems(), key=operator.itemgetter(1), reverse=True)\n",
        "    return sortedClassCount[0][0]\n"
      ],
      "execution_count": 10,
      "outputs": []
    },
    {
      "cell_type": "code",
      "metadata": {
        "id": "vNsJQRSrLm4P",
        "colab_type": "code",
        "colab": {}
      },
      "source": [
        "\n",
        "def createTree(dataSet, featNames):\n",
        "    classList = [data[-1] for data in dataSet]  #当前数据集的所有标签\n",
        "    if classList.count(classList[0]) == len(classList):  #如果这堆标签全都一样的话，返回这个标签。\n",
        "        return classList[0]\n",
        "    if len(dataSet[0]) == 1:  #如果当前数据集一个特征都不剩了，那就不用再划分下去了\n",
        "        return majorityCnt(classList)  #直接投票，返回出现次数最多的标签\n",
        "    bestFeat = chooseBestFeatureToSplit(dataSet)  #选出用于划分的最佳属性\n",
        "    bestFeatName = featNames[bestFeat]  #最佳属性的属性名称\n",
        "    myTree = {bestFeatName:{}}  #字典：记录最佳属性对应的标签种类、出现次数情况\n",
        "    del(featNames[bestFeat])  #在属性名称列表中剔除最佳属性\n",
        "    featValues = [data[bestFeat] for data in dataSet]  #当前数据集中最佳属性的所有属性值\n",
        "    uniqueVals = set(featValues) #最佳属性的不同属性值\n",
        "    for value in uniqueVals:\n",
        "        subfeatNames = featNames[:]  #去除最佳属性后的属性名称列表\n",
        "        # 构建最佳属性的值为value的子树\n",
        "        myTree[bestFeatName][value] = createTree(splitDataSet(dataSet, bestFeat, value),subfeatNames)\n",
        "    return myTree\n"
      ],
      "execution_count": 11,
      "outputs": []
    },
    {
      "cell_type": "code",
      "metadata": {
        "id": "zUNNrsSdLp5e",
        "colab_type": "code",
        "colab": {
          "base_uri": "https://localhost:8080/",
          "height": 54
        },
        "outputId": "9582dee8-e478-4230-9453-608a6047ab33"
      },
      "source": [
        "dataSet, feats = createDataSet()\n",
        "theTree = createTree(dataSet, feats)\n",
        "print(theTree)"
      ],
      "execution_count": 12,
      "outputs": [
        {
          "output_type": "stream",
          "text": [
            "{'Contact': {0: {'Front left Sensor Left': {0: {'Front Sensor Right': {0: 'No object seeing', 1: 'No object seeing', 2: 'Object seeing', 3: 'Object seeing'}}, 1: {'Front Sensor Right': {0: 'No object seeing', 1: 'No object seeing', 2: 'Object seeing', 3: 'Object seeing'}}, 2: 'Object seeing', 3: 'Object seeing'}}, 1: 'Charge'}}\n"
          ],
          "name": "stdout"
        }
      ]
    },
    {
      "cell_type": "code",
      "metadata": {
        "id": "bZZnODr0Lz1C",
        "colab_type": "code",
        "colab": {}
      },
      "source": [
        "\n",
        "def classify(inputTree,featNames,testVec):\n",
        "    #得换成list\n",
        "    firstStr = list(inputTree.keys())[0]  #当前树的根节点的特征名称\n",
        "    secondDict = inputTree[firstStr]  #根节点的所有子节点\n",
        "    featIndex = featNames.index(firstStr)  #找到根节点特征对应的下标\n",
        "    key = testVec[featIndex]  #找出待测数据的特征值\n",
        "    valueOfFeat = secondDict[key]  #拿这个特征值在根节点的子节点中查找，看它是不是叶节点\n",
        "    if isinstance(valueOfFeat, dict):  #如果不是叶节点\n",
        "        classLabel = classify(valueOfFeat, featNames, testVec)  #递归地进入下一层节点\n",
        "    else: classLabel = valueOfFeat  #如果是叶节点：确定待测数据的分类\n",
        "    return classLabel\n"
      ],
      "execution_count": 13,
      "outputs": []
    },
    {
      "cell_type": "code",
      "metadata": {
        "id": "17Fk2RDML3g1",
        "colab_type": "code",
        "colab": {
          "base_uri": "https://localhost:8080/",
          "height": 71
        },
        "outputId": "d0644e72-2149-450c-fafb-daa33044bd3d"
      },
      "source": [
        "dataSet, feats = createDataSet()\n",
        "feats_copy = feats[:]  #由于createTree函数会改变feats，所以先深复制一份feats\n",
        "theTree = createTree(dataSet, feats)\n",
        "# print feats_copy, '\\n', theTree\n",
        "# print classify(theTree, feats_copy, [1,0])\n",
        "# print classify(theTree, feats_copy, [1,1])\n",
        "print(feats_copy)\n",
        "print(theTree)\n",
        "#print(classify(theTree, feats_copy, [1,0]))"
      ],
      "execution_count": 15,
      "outputs": [
        {
          "output_type": "stream",
          "text": [
            "['Front left Sensor Left', 'Front Sensor Right', 'Contact']\n",
            "{'Contact': {0: {'Front left Sensor Left': {0: {'Front Sensor Right': {0: 'No object seeing', 1: 'No object seeing', 2: 'Object seeing', 3: 'Object seeing'}}, 1: {'Front Sensor Right': {0: 'No object seeing', 1: 'No object seeing', 2: 'Object seeing', 3: 'Object seeing'}}, 2: 'Object seeing', 3: 'Object seeing'}}, 1: 'Charge'}}\n"
          ],
          "name": "stdout"
        }
      ]
    },
    {
      "cell_type": "code",
      "metadata": {
        "id": "8Fu3Z1VZO8BV",
        "colab_type": "code",
        "colab": {}
      },
      "source": [
        "def storeTree(inputTree, filename):\n",
        "    import pickle\n",
        "    fw = open(filename, 'w')\n",
        "    pickle.dump(inputTree, fw)\n",
        "    fw.close()\n",
        "def grabTree(filename):\n",
        "    import pickle\n",
        "    fr = open(filename)\n",
        "    return pickle.load(fr)"
      ],
      "execution_count": 16,
      "outputs": []
    },
    {
      "cell_type": "code",
      "metadata": {
        "id": "1dsnFNkEPJZl",
        "colab_type": "code",
        "colab": {
          "base_uri": "https://localhost:8080/",
          "height": 203
        },
        "outputId": "f78401fe-9326-4fce-af3f-bdb23043e50d"
      },
      "source": [
        "# storeTree(theTree, 'storage.txt')\n",
        "# grabTree('storage.txt')\n",
        "theTree"
      ],
      "execution_count": 17,
      "outputs": [
        {
          "output_type": "execute_result",
          "data": {
            "text/plain": [
              "{'Contact': {0: {'Front left Sensor Left': {0: {'Front Sensor Right': {0: 'No object seeing',\n",
              "      1: 'No object seeing',\n",
              "      2: 'Object seeing',\n",
              "      3: 'Object seeing'}},\n",
              "    1: {'Front Sensor Right': {0: 'No object seeing',\n",
              "      1: 'No object seeing',\n",
              "      2: 'Object seeing',\n",
              "      3: 'Object seeing'}},\n",
              "    2: 'Object seeing',\n",
              "    3: 'Object seeing'}},\n",
              "  1: 'Charge'}}"
            ]
          },
          "metadata": {
            "tags": []
          },
          "execution_count": 17
        }
      ]
    },
    {
      "cell_type": "code",
      "metadata": {
        "id": "0wXNNZdtgsGg",
        "colab_type": "code",
        "colab": {
          "base_uri": "https://localhost:8080/",
          "height": 71
        },
        "outputId": "b43759e3-ef75-4960-ef12-230340b112f5"
      },
      "source": [
        "import json\n",
        "\n",
        "b = json.dumps(theTree)\n",
        "print(b)\n",
        "print(type(b))\n",
        "# f2 = open('drive/My Drive/tree_json.json', 'w')\n",
        "# f2.write(b)\n",
        "# f2.close()"
      ],
      "execution_count": 18,
      "outputs": [
        {
          "output_type": "stream",
          "text": [
            "{\"Contact\": {\"0\": {\"Front left Sensor Left\": {\"0\": {\"Front Sensor Right\": {\"0\": \"No object seeing\", \"1\": \"No object seeing\", \"2\": \"Object seeing\", \"3\": \"Object seeing\"}}, \"1\": {\"Front Sensor Right\": {\"0\": \"No object seeing\", \"1\": \"No object seeing\", \"2\": \"Object seeing\", \"3\": \"Object seeing\"}}, \"2\": \"Object seeing\", \"3\": \"Object seeing\"}}, \"1\": \"Charge\"}}\n",
            "<class 'str'>\n"
          ],
          "name": "stdout"
        }
      ]
    },
    {
      "cell_type": "code",
      "metadata": {
        "id": "VxjjFp-t6eZT",
        "colab_type": "code",
        "colab": {
          "base_uri": "https://localhost:8080/",
          "height": 395
        },
        "outputId": "5c4c0796-1dd5-4ca0-b6ef-718f2249f3e5"
      },
      "source": [
        "# -*- coding: UTF-8 -*-\n",
        "from sklearn.preprocessing import LabelEncoder, OneHotEncoder\n",
        "from sklearn.externals.six import StringIO\n",
        "from sklearn import tree\n",
        "import pandas as pd\n",
        "import numpy as np\n",
        "import pydotplus\n",
        "\n",
        "lenses_pd = pd.DataFrame(theTree)\t\n",
        "\n",
        "dot_data = StringIO()\n",
        "tree.export_graphviz(theTree, out_file = dot_data,\t\t\t\t\t\t\t#绘制决策树\n",
        "\t\t\t\t\tfeature_names = lenses_pd.keys(),\n",
        "\t\t\t\t\t#class_names = theTree.classes_,\n",
        "\t\t\t\t\tfilled=True, rounded=True,\n",
        "\t\t\t\t\tspecial_characters=True)\n",
        "graph = pydotplus.graph_from_dot_data(dot_data.getvalue())\n",
        "graph.write_pdf(\"drive/My Drive/tree.pdf\")\t"
      ],
      "execution_count": 24,
      "outputs": [
        {
          "output_type": "error",
          "ename": "TypeError",
          "evalue": "ignored",
          "traceback": [
            "\u001b[0;31m---------------------------------------------------------------------------\u001b[0m",
            "\u001b[0;31mTypeError\u001b[0m                                 Traceback (most recent call last)",
            "\u001b[0;32m<ipython-input-24-4ce9c3142031>\u001b[0m in \u001b[0;36m<module>\u001b[0;34m()\u001b[0m\n\u001b[1;32m     14\u001b[0m                                         \u001b[0;31m#class_names = theTree.classes_,\u001b[0m\u001b[0;34m\u001b[0m\u001b[0;34m\u001b[0m\u001b[0;34m\u001b[0m\u001b[0m\n\u001b[1;32m     15\u001b[0m                                         \u001b[0mfilled\u001b[0m\u001b[0;34m=\u001b[0m\u001b[0;32mTrue\u001b[0m\u001b[0;34m,\u001b[0m \u001b[0mrounded\u001b[0m\u001b[0;34m=\u001b[0m\u001b[0;32mTrue\u001b[0m\u001b[0;34m,\u001b[0m\u001b[0;34m\u001b[0m\u001b[0;34m\u001b[0m\u001b[0m\n\u001b[0;32m---> 16\u001b[0;31m \t\t\t\t\tspecial_characters=False)\n\u001b[0m\u001b[1;32m     17\u001b[0m \u001b[0mgraph\u001b[0m \u001b[0;34m=\u001b[0m \u001b[0mpydotplus\u001b[0m\u001b[0;34m.\u001b[0m\u001b[0mgraph_from_dot_data\u001b[0m\u001b[0;34m(\u001b[0m\u001b[0mdot_data\u001b[0m\u001b[0;34m.\u001b[0m\u001b[0mgetvalue\u001b[0m\u001b[0;34m(\u001b[0m\u001b[0;34m)\u001b[0m\u001b[0;34m)\u001b[0m\u001b[0;34m\u001b[0m\u001b[0;34m\u001b[0m\u001b[0m\n\u001b[1;32m     18\u001b[0m \u001b[0mgraph\u001b[0m\u001b[0;34m.\u001b[0m\u001b[0mwrite_pdf\u001b[0m\u001b[0;34m(\u001b[0m\u001b[0;34m\"drive/My Drive/tree.pdf\"\u001b[0m\u001b[0;34m)\u001b[0m\u001b[0;34m\u001b[0m\u001b[0;34m\u001b[0m\u001b[0m\n",
            "\u001b[0;32m/usr/local/lib/python3.6/dist-packages/sklearn/tree/_export.py\u001b[0m in \u001b[0;36mexport_graphviz\u001b[0;34m(decision_tree, out_file, max_depth, feature_names, class_names, label, filled, leaves_parallel, impurity, node_ids, proportion, rotate, rounded, special_characters, precision)\u001b[0m\n\u001b[1;32m    743\u001b[0m     \"\"\"\n\u001b[1;32m    744\u001b[0m \u001b[0;34m\u001b[0m\u001b[0m\n\u001b[0;32m--> 745\u001b[0;31m     \u001b[0mcheck_is_fitted\u001b[0m\u001b[0;34m(\u001b[0m\u001b[0mdecision_tree\u001b[0m\u001b[0;34m)\u001b[0m\u001b[0;34m\u001b[0m\u001b[0;34m\u001b[0m\u001b[0m\n\u001b[0m\u001b[1;32m    746\u001b[0m     \u001b[0mown_file\u001b[0m \u001b[0;34m=\u001b[0m \u001b[0;32mFalse\u001b[0m\u001b[0;34m\u001b[0m\u001b[0;34m\u001b[0m\u001b[0m\n\u001b[1;32m    747\u001b[0m     \u001b[0mreturn_string\u001b[0m \u001b[0;34m=\u001b[0m \u001b[0;32mFalse\u001b[0m\u001b[0;34m\u001b[0m\u001b[0;34m\u001b[0m\u001b[0m\n",
            "\u001b[0;32m/usr/local/lib/python3.6/dist-packages/sklearn/utils/validation.py\u001b[0m in \u001b[0;36mcheck_is_fitted\u001b[0;34m(estimator, attributes, msg, all_or_any)\u001b[0m\n\u001b[1;32m    954\u001b[0m \u001b[0;34m\u001b[0m\u001b[0m\n\u001b[1;32m    955\u001b[0m     \u001b[0;32mif\u001b[0m \u001b[0;32mnot\u001b[0m \u001b[0mhasattr\u001b[0m\u001b[0;34m(\u001b[0m\u001b[0mestimator\u001b[0m\u001b[0;34m,\u001b[0m \u001b[0;34m'fit'\u001b[0m\u001b[0;34m)\u001b[0m\u001b[0;34m:\u001b[0m\u001b[0;34m\u001b[0m\u001b[0;34m\u001b[0m\u001b[0m\n\u001b[0;32m--> 956\u001b[0;31m         \u001b[0;32mraise\u001b[0m \u001b[0mTypeError\u001b[0m\u001b[0;34m(\u001b[0m\u001b[0;34m\"%s is not an estimator instance.\"\u001b[0m \u001b[0;34m%\u001b[0m \u001b[0;34m(\u001b[0m\u001b[0mestimator\u001b[0m\u001b[0;34m)\u001b[0m\u001b[0;34m)\u001b[0m\u001b[0;34m\u001b[0m\u001b[0;34m\u001b[0m\u001b[0m\n\u001b[0m\u001b[1;32m    957\u001b[0m \u001b[0;34m\u001b[0m\u001b[0m\n\u001b[1;32m    958\u001b[0m     \u001b[0;32mif\u001b[0m \u001b[0mattributes\u001b[0m \u001b[0;32mis\u001b[0m \u001b[0;32mnot\u001b[0m \u001b[0;32mNone\u001b[0m\u001b[0;34m:\u001b[0m\u001b[0;34m\u001b[0m\u001b[0;34m\u001b[0m\u001b[0m\n",
            "\u001b[0;31mTypeError\u001b[0m: {'Contact': {0: {'Front left Sensor Left': {0: {'Front Sensor Right': {0: 'No object seeing', 1: 'No object seeing', 2: 'Object seeing', 3: 'Object seeing'}}, 1: {'Front Sensor Right': {0: 'No object seeing', 1: 'No object seeing', 2: 'Object seeing', 3: 'Object seeing'}}, 2: 'Object seeing', 3: 'Object seeing'}}, 1: 'Charge'}} is not an estimator instance."
          ]
        }
      ]
    }
  ]
}