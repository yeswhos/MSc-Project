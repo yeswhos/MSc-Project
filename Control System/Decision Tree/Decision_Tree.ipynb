{
  "nbformat": 4,
  "nbformat_minor": 0,
  "metadata": {
    "colab": {
      "name": "Decision Tree.ipynb",
      "provenance": [],
      "include_colab_link": true
    },
    "kernelspec": {
      "name": "python3",
      "display_name": "Python 3"
    }
  },
  "cells": [
    {
      "cell_type": "markdown",
      "metadata": {
        "id": "view-in-github",
        "colab_type": "text"
      },
      "source": [
        "<a href=\"https://colab.research.google.com/github/yeswhos/MSc-Project/blob/master/Control%20System/Decision%20Tree/Decision_Tree.ipynb\" target=\"_parent\"><img src=\"https://colab.research.google.com/assets/colab-badge.svg\" alt=\"Open In Colab\"/></a>"
      ]
    },
    {
      "cell_type": "code",
      "metadata": {
        "id": "WLSHxlI3aMiQ",
        "colab_type": "code",
        "colab": {
          "base_uri": "https://localhost:8080/",
          "height": 122
        },
        "outputId": "aebef98e-7c25-4d8d-e3a9-d86ce5db8216"
      },
      "source": [
        "from google.colab import drive\n",
        "drive.mount('/content/drive')\n",
        "filepath = \"drive/My Drive/Wrestling.txt\""
      ],
      "execution_count": null,
      "outputs": [
        {
          "output_type": "stream",
          "text": [
            "Go to this URL in a browser: https://accounts.google.com/o/oauth2/auth?client_id=947318989803-6bn6qk8qdgf4n4g3pfee6491hc0brc4i.apps.googleusercontent.com&redirect_uri=urn%3aietf%3awg%3aoauth%3a2.0%3aoob&scope=email%20https%3a%2f%2fwww.googleapis.com%2fauth%2fdocs.test%20https%3a%2f%2fwww.googleapis.com%2fauth%2fdrive%20https%3a%2f%2fwww.googleapis.com%2fauth%2fdrive.photos.readonly%20https%3a%2f%2fwww.googleapis.com%2fauth%2fpeopleapi.readonly&response_type=code\n",
            "\n",
            "Enter your authorization code:\n",
            "··········\n",
            "Mounted at /content/drive\n"
          ],
          "name": "stdout"
        }
      ]
    },
    {
      "cell_type": "code",
      "metadata": {
        "id": "wQfcSpBQ8e2E",
        "colab_type": "code",
        "colab": {
          "base_uri": "https://localhost:8080/",
          "height": 88
        },
        "outputId": "30a75b0a-69fc-481c-b07e-5847366376f6"
      },
      "source": [
        "# -*- coding: UTF-8 -*-\n",
        "from sklearn.preprocessing import LabelEncoder, OneHotEncoder\n",
        "from sklearn.externals.six import StringIO\n",
        "from sklearn import tree\n",
        "import pandas as pd\n",
        "import numpy as np\n",
        "import pydotplus\n",
        "\n",
        "\n",
        "with open(filepath, 'r') as fr:\t\t\t\t\t\t\t\t\t\t#Load file\n",
        "\tmode = [inst.strip().split('\\t') for inst in fr.readlines()]\t\t#Process file\n",
        "mode_target = []\t\t\t\t\t\t\t\t\t\t\t\t\t\t\n",
        "for each in mode:\n",
        "\tmode_target.append(each[-1])\n",
        "print(mode_target)\n",
        "\n"
      ],
      "execution_count": null,
      "outputs": [
        {
          "output_type": "stream",
          "text": [
            "/usr/local/lib/python3.6/dist-packages/sklearn/externals/six.py:31: FutureWarning: The module is deprecated in version 0.21 and will be removed in version 0.23 since we've dropped support for Python 2.7. Please rely on the official version of six (https://pypi.org/project/six/).\n",
            "  \"(https://pypi.org/project/six/).\", FutureWarning)\n"
          ],
          "name": "stderr"
        },
        {
          "output_type": "stream",
          "text": [
            "['Charge', 'Charge', 'Charge', 'Charge', 'No object detecting', 'No object detecting', 'Object seeing', 'Object seeing', 'Charge', 'Charge', 'Charge', 'Charge', 'No object detecting', 'No object detecting', 'Object seeing', 'Object seeing', 'Charge', 'Charge', 'Charge', 'Charge', 'Object seeing', 'Object seeing', 'Object seeing', 'Object seeing', 'Charge', 'Charge', 'Charge', 'Charge', 'Object seeing', 'Object seeing', 'Object seeing', 'Object seeing']\n"
          ],
          "name": "stdout"
        }
      ]
    },
    {
      "cell_type": "code",
      "metadata": {
        "id": "O11EnPVhoc7d",
        "colab_type": "code",
        "colab": {
          "base_uri": "https://localhost:8080/",
          "height": 576
        },
        "outputId": "240fa829-2e3e-43f0-9c45-a3208cf9c789"
      },
      "source": [
        "modeLabels = ['proxSensor1', 'proxSensor', 'accelerometer']\t\t\t#feature\t\n",
        "mode_list = []\t\t\t\t\t\t\t\t\t\t\t\t\t\t#temp list to store data\n",
        "mode_dict = {}\t\t\t\t\t\t\t\t\t\t\t\t\t\t#dictionary to store the data\n",
        "for each_label in modeLabels:\t\t\t\t\t\t\t\t\t\t\t#extract data to generate dictionary\n",
        "\tfor each in mode:\n",
        "\t\tmode_list.append(each[modeLabels.index(each_label)])\n",
        "\tmode_dict[each_label] = mode_list\n",
        "\tmode_list = []\n",
        "\t\t\t\t\t\t\t\t\t\t\t\t\t\n",
        "mode_pd = pd.DataFrame(mode_dict)\t\t\t\t\t\t\t\t\t#generate pandas.DataFrame\n",
        "print(mode_pd)\t\t\t\t\t\t\t\t\t\t\t\t\t\t#print pandas.DataFrame\n"
      ],
      "execution_count": null,
      "outputs": [
        {
          "output_type": "stream",
          "text": [
            "   proxSensor1 proxSensor accelerometer\n",
            "0            0          0             1\n",
            "1            0          1             1\n",
            "2            0          2             1\n",
            "3            0          3             1\n",
            "4            0          0             0\n",
            "5            0          1             0\n",
            "6            0          2             0\n",
            "7            0          3             0\n",
            "8            1          0             1\n",
            "9            1          1             1\n",
            "10           1          2             1\n",
            "11           1          3             1\n",
            "12           1          0             0\n",
            "13           1          1             0\n",
            "14           1          2             0\n",
            "15           1          3             0\n",
            "16           2          0             1\n",
            "17           2          1             1\n",
            "18           2          2             1\n",
            "19           2          3             1\n",
            "20           2          0             0\n",
            "21           2          1             0\n",
            "22           2          2             0\n",
            "23           2          3             0\n",
            "24           3          0             1\n",
            "25           3          1             1\n",
            "26           3          2             1\n",
            "27           3          3             1\n",
            "28           3          0             0\n",
            "29           3          1             0\n",
            "30           3          2             0\n",
            "31           3          3             0\n"
          ],
          "name": "stdout"
        }
      ]
    },
    {
      "cell_type": "code",
      "metadata": {
        "id": "A_WRms5lo1Do",
        "colab_type": "code",
        "colab": {
          "base_uri": "https://localhost:8080/",
          "height": 576
        },
        "outputId": "48f9f37c-0951-48a6-f260-4296035945f5"
      },
      "source": [
        "le = LabelEncoder()\t\t\t\t\t\t\t\t\t\t\t\t\t\t#create LabelEncoder() object\t\t\t\n",
        "for col in mode_pd.columns:\t\t\t\t\t\t\t\t\t\t\t #Serialization\n",
        "\tmode_pd[col] = le.fit_transform(mode_pd[col])\n",
        "print(mode_pd)\t\t\t\t\t\t\t\t\t\t\t\t\t\t\n",
        "\n"
      ],
      "execution_count": null,
      "outputs": [
        {
          "output_type": "stream",
          "text": [
            "    proxSensor1  proxSensor  accelerometer\n",
            "0             0           0              1\n",
            "1             0           1              1\n",
            "2             0           2              1\n",
            "3             0           3              1\n",
            "4             0           0              0\n",
            "5             0           1              0\n",
            "6             0           2              0\n",
            "7             0           3              0\n",
            "8             1           0              1\n",
            "9             1           1              1\n",
            "10            1           2              1\n",
            "11            1           3              1\n",
            "12            1           0              0\n",
            "13            1           1              0\n",
            "14            1           2              0\n",
            "15            1           3              0\n",
            "16            2           0              1\n",
            "17            2           1              1\n",
            "18            2           2              1\n",
            "19            2           3              1\n",
            "20            2           0              0\n",
            "21            2           1              0\n",
            "22            2           2              0\n",
            "23            2           3              0\n",
            "24            3           0              1\n",
            "25            3           1              1\n",
            "26            3           2              1\n",
            "27            3           3              1\n",
            "28            3           0              0\n",
            "29            3           1              0\n",
            "30            3           2              0\n",
            "31            3           3              0\n"
          ],
          "name": "stdout"
        }
      ]
    },
    {
      "cell_type": "code",
      "metadata": {
        "id": "R-ym_wuKpBTA",
        "colab_type": "code",
        "colab": {
          "base_uri": "https://localhost:8080/",
          "height": 34
        },
        "outputId": "a960eed1-4ca4-4fa8-91c2-ec417c79e33c"
      },
      "source": [
        "clf = tree.DecisionTreeClassifier(criterion = 'gini')\t\t\t\t\t\t#create DecisionTreeClassifier()\n",
        "clf = clf.fit(mode_pd.values.tolist(), mode_target)\t\t\t\t\t#apply data into decision tree\n",
        "\n",
        "dot_data = StringIO()\n",
        "tree.export_graphviz(clf, out_file = dot_data,\t\t\t\t\t\t\t#Visualized decision tree\n",
        "\t\t\t\t\tfeature_names = mode_pd.keys(),\n",
        "\t\t\t\t\tclass_names = clf.classes_,\n",
        "\t\t\t\t\tfilled=True, rounded=True,\n",
        "\t\t\t\t\tspecial_characters=True)\n",
        "graph = pydotplus.graph_from_dot_data(dot_data.getvalue())\n",
        "graph.write_pdf(\"drive/My Drive/tree.pdf\")\t\t\t\t\t\t\t\t\t\t\t\t#Save decision tree into PDF file\n"
      ],
      "execution_count": null,
      "outputs": [
        {
          "output_type": "execute_result",
          "data": {
            "text/plain": [
              "True"
            ]
          },
          "metadata": {
            "tags": []
          },
          "execution_count": 16
        }
      ]
    },
    {
      "cell_type": "code",
      "metadata": {
        "id": "42NEFObeaLAZ",
        "colab_type": "code",
        "colab": {
          "base_uri": "https://localhost:8080/",
          "height": 34
        },
        "outputId": "9a245af6-52b1-4a01-d931-016e722bdb54"
      },
      "source": [
        "print(clf.predict([[3,0,1]]))\t"
      ],
      "execution_count": null,
      "outputs": [
        {
          "output_type": "stream",
          "text": [
            "['Charge']\n"
          ],
          "name": "stdout"
        }
      ]
    },
    {
      "cell_type": "code",
      "metadata": {
        "id": "AoZ0ZdP2vjwP",
        "colab_type": "code",
        "colab": {}
      },
      "source": [
        "import json\n",
        "\n",
        "b = json.dumps(clf)\n",
        "print(b)\n",
        "print(type(b))\n",
        "# f2 = open('drive/My Drive/tree_json.json', 'w')\n",
        "# f2.write(b)\n",
        "# f2.close()"
      ],
      "execution_count": null,
      "outputs": []
    },
    {
      "cell_type": "code",
      "metadata": {
        "id": "ZfRnjDz00gDE",
        "colab_type": "code",
        "colab": {
          "base_uri": "https://localhost:8080/",
          "height": 119
        },
        "outputId": "40337685-f921-43fe-b885-ca4be9c23433"
      },
      "source": [
        "print(clf)"
      ],
      "execution_count": null,
      "outputs": [
        {
          "output_type": "stream",
          "text": [
            "DecisionTreeClassifier(ccp_alpha=0.0, class_weight=None, criterion='gini',\n",
            "                       max_depth=4, max_features=None, max_leaf_nodes=None,\n",
            "                       min_impurity_decrease=0.0, min_impurity_split=None,\n",
            "                       min_samples_leaf=1, min_samples_split=2,\n",
            "                       min_weight_fraction_leaf=0.0, presort='deprecated',\n",
            "                       random_state=None, splitter='best')\n"
          ],
          "name": "stdout"
        }
      ]
    }
  ]
}