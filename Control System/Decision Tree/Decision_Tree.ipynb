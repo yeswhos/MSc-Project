{
  "nbformat": 4,
  "nbformat_minor": 0,
  "metadata": {
    "colab": {
      "name": "Decision Tree.ipynb",
      "provenance": []
    },
    "kernelspec": {
      "name": "python3",
      "display_name": "Python 3"
    }
  },
  "cells": [
    {
      "cell_type": "code",
      "metadata": {
        "id": "wQfcSpBQ8e2E",
        "colab_type": "code",
        "colab": {}
      },
      "source": [
        "# -*- coding: UTF-8 -*-\n",
        "from sklearn.preprocessing import LabelEncoder, OneHotEncoder\n",
        "from sklearn.externals.six import StringIO\n",
        "from sklearn import tree\n",
        "import pandas as pd\n",
        "import numpy as np\n",
        "import pydotplus\n",
        "\n",
        "if __name__ == '__main__':\n",
        "\twith open('lenses.txt', 'r') as fr:\t\t\t\t\t\t\t\t\t\t#加载文件\n",
        "\t\tlenses = [inst.strip().split('\\t') for inst in fr.readlines()]\t\t#处理文件\n",
        "\tlenses_target = []\t\t\t\t\t\t\t\t\t\t\t\t\t\t#提取每组数据的类别，保存在列表里\n",
        "\tfor each in lenses:\n",
        "\t\tlenses_target.append(each[-1])\n",
        "\t# print(lenses_target)\n",
        "\n",
        "\tlensesLabels = ['age', 'prescript', 'astigmatic', 'tearRate']\t\t\t#特征标签\t\t\n",
        "\tlenses_list = []\t\t\t\t\t\t\t\t\t\t\t\t\t\t#保存lenses数据的临时列表\n",
        "\tlenses_dict = {}\t\t\t\t\t\t\t\t\t\t\t\t\t\t#保存lenses数据的字典，用于生成pandas\n",
        "\tfor each_label in lensesLabels:\t\t\t\t\t\t\t\t\t\t\t#提取信息，生成字典\n",
        "\t\tfor each in lenses:\n",
        "\t\t\tlenses_list.append(each[lensesLabels.index(each_label)])\n",
        "\t\tlenses_dict[each_label] = lenses_list\n",
        "\t\tlenses_list = []\n",
        "\t# print(lenses_dict)\t\t\t\t\t\t\t\t\t\t\t\t\t\t#打印字典信息\n",
        "\tlenses_pd = pd.DataFrame(lenses_dict)\t\t\t\t\t\t\t\t\t#生成pandas.DataFrame\n",
        "\t# print(lenses_pd)\t\t\t\t\t\t\t\t\t\t\t\t\t\t#打印pandas.DataFrame\n",
        "\tle = LabelEncoder()\t\t\t\t\t\t\t\t\t\t\t\t\t\t#创建LabelEncoder()对象，用于序列化\t\t\t\n",
        "\tfor col in lenses_pd.columns:\t\t\t\t\t\t\t\t\t\t\t#序列化\n",
        "\t\tlenses_pd[col] = le.fit_transform(lenses_pd[col])\n",
        "\t# print(lenses_pd)\t\t\t\t\t\t\t\t\t\t\t\t\t\t#打印编码信息\n",
        "\n",
        "\tclf = tree.DecisionTreeClassifier(max_depth = 4)\t\t\t\t\t\t#创建DecisionTreeClassifier()类\n",
        "\tclf = clf.fit(lenses_pd.values.tolist(), lenses_target)\t\t\t\t\t#使用数据，构建决策树\n",
        "\n",
        "\tdot_data = StringIO()\n",
        "\ttree.export_graphviz(clf, out_file = dot_data,\t\t\t\t\t\t\t#绘制决策树\n",
        "\t\t\t\t\t\tfeature_names = lenses_pd.keys(),\n",
        "\t\t\t\t\t\tclass_names = clf.classes_,\n",
        "\t\t\t\t\t\tfilled=True, rounded=True,\n",
        "\t\t\t\t\t\tspecial_characters=True)\n",
        "\tgraph = pydotplus.graph_from_dot_data(dot_data.getvalue())\n",
        "\tgraph.write_pdf(\"tree.pdf\")\t\t\t\t\t\t\t\t\t\t\t\t#保存绘制好的决策树，以PDF的形式存储。\n",
        "\n",
        "\tprint(clf.predict([[1,1,1,0]]))\t\t\t\t\t\t\t\t\t\t\t#预测"
      ],
      "execution_count": null,
      "outputs": []
    }
  ]
}