{
  "nbformat": 4,
  "nbformat_minor": 0,
  "metadata": {
    "colab": {
      "name": "Decision Tree.ipynb",
      "provenance": [],
      "include_colab_link": true
    },
    "kernelspec": {
      "name": "python3",
      "display_name": "Python 3"
    }
  },
  "cells": [
    {
      "cell_type": "markdown",
      "metadata": {
        "id": "view-in-github",
        "colab_type": "text"
      },
      "source": [
        "<a href=\"https://colab.research.google.com/github/yeswhos/MSc-Project/blob/master/Control%20System/Decision%20Tree/Decision_Tree.ipynb\" target=\"_parent\"><img src=\"https://colab.research.google.com/assets/colab-badge.svg\" alt=\"Open In Colab\"/></a>"
      ]
    },
    {
      "cell_type": "code",
      "metadata": {
        "id": "WLSHxlI3aMiQ",
        "colab_type": "code",
        "colab": {
          "base_uri": "https://localhost:8080/",
          "height": 122
        },
        "outputId": "2ac861fc-4cb8-41c1-abe4-a1591622ff40"
      },
      "source": [
        "from google.colab import drive\n",
        "drive.mount('/content/drive')\n",
        "filepath = \"drive/My Drive/lenses.txt\""
      ],
      "execution_count": 1,
      "outputs": [
        {
          "output_type": "stream",
          "text": [
            "Go to this URL in a browser: https://accounts.google.com/o/oauth2/auth?client_id=947318989803-6bn6qk8qdgf4n4g3pfee6491hc0brc4i.apps.googleusercontent.com&redirect_uri=urn%3aietf%3awg%3aoauth%3a2.0%3aoob&response_type=code&scope=email%20https%3a%2f%2fwww.googleapis.com%2fauth%2fdocs.test%20https%3a%2f%2fwww.googleapis.com%2fauth%2fdrive%20https%3a%2f%2fwww.googleapis.com%2fauth%2fdrive.photos.readonly%20https%3a%2f%2fwww.googleapis.com%2fauth%2fpeopleapi.readonly\n",
            "\n",
            "Enter your authorization code:\n",
            "··········\n",
            "Mounted at /content/drive\n"
          ],
          "name": "stdout"
        }
      ]
    },
    {
      "cell_type": "code",
      "metadata": {
        "id": "wQfcSpBQ8e2E",
        "colab_type": "code",
        "colab": {}
      },
      "source": [
        "# -*- coding: UTF-8 -*-\n",
        "from sklearn.preprocessing import LabelEncoder, OneHotEncoder\n",
        "from sklearn.externals.six import StringIO\n",
        "from sklearn import tree\n",
        "import pandas as pd\n",
        "import numpy as np\n",
        "import pydotplus\n",
        "\n",
        "if __name__ == '__main__':\n",
        "\twith open(filepath, 'r') as fr:\t\t\t\t\t\t\t\t\t\t#加载文件\n",
        "\t\tlenses = [inst.strip().split('\\t') for inst in fr.readlines()]\t\t#处理文件\n",
        "\tlenses_target = []\t\t\t\t\t\t\t\t\t\t\t\t\t\t#提取每组数据的类别，保存在列表里\n",
        "\tfor each in lenses:\n",
        "\t\tlenses_target.append(each[-1])\n",
        "\t# print(lenses_target)\n",
        "\n",
        "\tlensesLabels = ['age', 'prescript', 'astigmatic', 'tearRate']\t\t\t#特征标签\t\t\n",
        "\tlenses_list = []\t\t\t\t\t\t\t\t\t\t\t\t\t\t#保存lenses数据的临时列表\n",
        "\tlenses_dict = {}\t\t\t\t\t\t\t\t\t\t\t\t\t\t#保存lenses数据的字典，用于生成pandas\n",
        "\tfor each_label in lensesLabels:\t\t\t\t\t\t\t\t\t\t\t#提取信息，生成字典\n",
        "\t\tfor each in lenses:\n",
        "\t\t\tlenses_list.append(each[lensesLabels.index(each_label)])\n",
        "\t\tlenses_dict[each_label] = lenses_list\n",
        "\t\tlenses_list = []\n",
        "\t# print(lenses_dict)\t\t\t\t\t\t\t\t\t\t\t\t\t\t#打印字典信息\n",
        "\tlenses_pd = pd.DataFrame(lenses_dict)\t\t\t\t\t\t\t\t\t#生成pandas.DataFrame\n",
        "\t# print(lenses_pd)\t\t\t\t\t\t\t\t\t\t\t\t\t\t#打印pandas.DataFrame\n",
        "\tle = LabelEncoder()\t\t\t\t\t\t\t\t\t\t\t\t\t\t#创建LabelEncoder()对象，用于序列化\t\t\t\n",
        "\tfor col in lenses_pd.columns:\t\t\t\t\t\t\t\t\t\t\t#序列化\n",
        "\t\tlenses_pd[col] = le.fit_transform(lenses_pd[col])\n",
        "\t# print(lenses_pd)\t\t\t\t\t\t\t\t\t\t\t\t\t\t#打印编码信息\n",
        "\n",
        "\tclf = tree.DecisionTreeClassifier(max_depth = 4)\t\t\t\t\t\t#创建DecisionTreeClassifier()类\n",
        "\tclf = clf.fit(lenses_pd.values.tolist(), lenses_target)\t\t\t\t\t#使用数据，构建决策树\n",
        "\n",
        "\tdot_data = StringIO()\n",
        "\ttree.export_graphviz(clf, out_file = dot_data,\t\t\t\t\t\t\t#绘制决策树\n",
        "\t\t\t\t\t\tfeature_names = lenses_pd.keys(),\n",
        "\t\t\t\t\t\tclass_names = clf.classes_,\n",
        "\t\t\t\t\t\tfilled=True, rounded=True,\n",
        "\t\t\t\t\t\tspecial_characters=True)\n",
        "\tgraph = pydotplus.graph_from_dot_data(dot_data.getvalue())\n",
        "\tgraph.write_pdf(\"drive/My Drive/tree.pdf\")\t\t\t\t\t\t\t\t\t\t\t\t#保存绘制好的决策树，以PDF的形式存储。\n",
        "\n",
        "\t\t\t\t\t\t\t\t\t\t\t#预测"
      ],
      "execution_count": 7,
      "outputs": []
    },
    {
      "cell_type": "code",
      "metadata": {
        "id": "42NEFObeaLAZ",
        "colab_type": "code",
        "colab": {
          "base_uri": "https://localhost:8080/",
          "height": 34
        },
        "outputId": "fd048221-8ef1-490f-9b46-a8a1a8e62bf2"
      },
      "source": [
        "print(clf.predict([[0,0,1,0]]))\t"
      ],
      "execution_count": 6,
      "outputs": [
        {
          "output_type": "stream",
          "text": [
            "['no lenses']\n"
          ],
          "name": "stdout"
        }
      ]
    }
  ]
}