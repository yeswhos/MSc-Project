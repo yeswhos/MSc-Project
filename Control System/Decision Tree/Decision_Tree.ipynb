{
  "nbformat": 4,
  "nbformat_minor": 0,
  "metadata": {
    "colab": {
      "name": "Decision Tree.ipynb",
      "provenance": [],
      "include_colab_link": true
    },
    "kernelspec": {
      "name": "python3",
      "display_name": "Python 3"
    }
  },
  "cells": [
    {
      "cell_type": "markdown",
      "metadata": {
        "id": "view-in-github",
        "colab_type": "text"
      },
      "source": [
        "<a href=\"https://colab.research.google.com/github/yeswhos/MSc-Project/blob/master/Control%20System/Decision%20Tree/Decision_Tree.ipynb\" target=\"_parent\"><img src=\"https://colab.research.google.com/assets/colab-badge.svg\" alt=\"Open In Colab\"/></a>"
      ]
    },
    {
      "cell_type": "code",
      "metadata": {
        "id": "WLSHxlI3aMiQ",
        "colab_type": "code",
        "colab": {
          "base_uri": "https://localhost:8080/",
          "height": 122
        },
        "outputId": "59e6b060-a781-4cd3-ded7-a59d62b57b6f"
      },
      "source": [
        "from google.colab import drive\n",
        "drive.mount('/content/drive')\n",
        "filepath = \"drive/My Drive/Wrestling.txt\""
      ],
      "execution_count": 1,
      "outputs": [
        {
          "output_type": "stream",
          "text": [
            "Go to this URL in a browser: https://accounts.google.com/o/oauth2/auth?client_id=947318989803-6bn6qk8qdgf4n4g3pfee6491hc0brc4i.apps.googleusercontent.com&redirect_uri=urn%3aietf%3awg%3aoauth%3a2.0%3aoob&response_type=code&scope=email%20https%3a%2f%2fwww.googleapis.com%2fauth%2fdocs.test%20https%3a%2f%2fwww.googleapis.com%2fauth%2fdrive%20https%3a%2f%2fwww.googleapis.com%2fauth%2fdrive.photos.readonly%20https%3a%2f%2fwww.googleapis.com%2fauth%2fpeopleapi.readonly\n",
            "\n",
            "Enter your authorization code:\n",
            "··········\n",
            "Mounted at /content/drive\n"
          ],
          "name": "stdout"
        }
      ]
    },
    {
      "cell_type": "code",
      "metadata": {
        "id": "wQfcSpBQ8e2E",
        "colab_type": "code",
        "colab": {
          "base_uri": "https://localhost:8080/",
          "height": 88
        },
        "outputId": "2414f706-3f7c-4c1a-fd6d-34cefb38acf8"
      },
      "source": [
        "# -*- coding: UTF-8 -*-\n",
        "from sklearn.preprocessing import LabelEncoder, OneHotEncoder\n",
        "from sklearn.externals.six import StringIO\n",
        "from sklearn import tree\n",
        "import pandas as pd\n",
        "import numpy as np\n",
        "import pydotplus\n",
        "\n",
        "\n",
        "with open(filepath, 'r') as fr:\t\t\t\t\t\t\t\t\t\t#加载文件\n",
        "\tlenses = [inst.strip().split('\\t') for inst in fr.readlines()]\t\t#处理文件\n",
        "lenses_target = []\t\t\t\t\t\t\t\t\t\t\t\t\t\t#提取每组数据的类别，保存在列表里\n",
        "for each in lenses:\n",
        "\tlenses_target.append(each[-1])\n",
        "print(lenses_target)\n",
        "\n"
      ],
      "execution_count": 2,
      "outputs": [
        {
          "output_type": "stream",
          "text": [
            "/usr/local/lib/python3.6/dist-packages/sklearn/externals/six.py:31: FutureWarning: The module is deprecated in version 0.21 and will be removed in version 0.23 since we've dropped support for Python 2.7. Please rely on the official version of six (https://pypi.org/project/six/).\n",
            "  \"(https://pypi.org/project/six/).\", FutureWarning)\n"
          ],
          "name": "stderr"
        },
        {
          "output_type": "stream",
          "text": [
            "['Charge', 'Charge', 'Charge', 'Charge', 'No object detecting', 'No object detecting', 'Object seeing', 'Object seeing', 'Charge', 'Charge', 'Charge', 'Charge', 'No object detecting', 'No object detecting', 'Object seeing', 'Object seeing', 'Charge', 'Charge', 'Charge', 'Charge', 'Object seeing', 'Object seeing', 'Object seeing', 'Object seeing', 'Charge', 'Charge', 'Charge', 'Charge', 'Object seeing', 'Object seeing', 'Object seeing', 'Object seeing']\n"
          ],
          "name": "stdout"
        }
      ]
    },
    {
      "cell_type": "code",
      "metadata": {
        "id": "O11EnPVhoc7d",
        "colab_type": "code",
        "colab": {
          "base_uri": "https://localhost:8080/",
          "height": 576
        },
        "outputId": "ac4bdb2a-0a5d-4272-89dc-8f70596cabf6"
      },
      "source": [
        "lensesLabels = ['proxSensor1', 'proxSensor', 'accelerometer']\t\t\t#特征标签\t\t\n",
        "lenses_list = []\t\t\t\t\t\t\t\t\t\t\t\t\t\t#保存lenses数据的临时列表\n",
        "lenses_dict = {}\t\t\t\t\t\t\t\t\t\t\t\t\t\t#保存lenses数据的字典，用于生成pandas\n",
        "for each_label in lensesLabels:\t\t\t\t\t\t\t\t\t\t\t#提取信息，生成字典\n",
        "\tfor each in lenses:\n",
        "\t\tlenses_list.append(each[lensesLabels.index(each_label)])\n",
        "\tlenses_dict[each_label] = lenses_list\n",
        "\tlenses_list = []\n",
        "#print(lenses_dict)\t\t\t\t\t\t\t\t\t\t\t\t\t\t#打印字典信息\n",
        "lenses_pd = pd.DataFrame(lenses_dict)\t\t\t\t\t\t\t\t\t#生成pandas.DataFrame\n",
        "print(lenses_pd)\t\t\t\t\t\t\t\t\t\t\t\t\t\t#打印pandas.DataFrame\n"
      ],
      "execution_count": 3,
      "outputs": [
        {
          "output_type": "stream",
          "text": [
            "   proxSensor1 proxSensor accelerometer\n",
            "0            0          0             1\n",
            "1            0          1             1\n",
            "2            0          2             1\n",
            "3            0          3             1\n",
            "4            0          0             0\n",
            "5            0          1             0\n",
            "6            0          2             0\n",
            "7            0          3             0\n",
            "8            1          0             1\n",
            "9            1          1             1\n",
            "10           1          2             1\n",
            "11           1          3             1\n",
            "12           1          0             0\n",
            "13           1          1             0\n",
            "14           1          2             0\n",
            "15           1          3             0\n",
            "16           2          0             1\n",
            "17           2          1             1\n",
            "18           2          2             1\n",
            "19           2          3             1\n",
            "20           2          0             0\n",
            "21           2          1             0\n",
            "22           2          2             0\n",
            "23           2          3             0\n",
            "24           3          0             1\n",
            "25           3          1             1\n",
            "26           3          2             1\n",
            "27           3          3             1\n",
            "28           3          0             0\n",
            "29           3          1             0\n",
            "30           3          2             0\n",
            "31           3          3             0\n"
          ],
          "name": "stdout"
        }
      ]
    },
    {
      "cell_type": "code",
      "metadata": {
        "id": "A_WRms5lo1Do",
        "colab_type": "code",
        "colab": {
          "base_uri": "https://localhost:8080/",
          "height": 576
        },
        "outputId": "5a360ef8-b594-45b3-f9d8-eb26b953403e"
      },
      "source": [
        "le = LabelEncoder()\t\t\t\t\t\t\t\t\t\t\t\t\t\t#创建LabelEncoder()对象，用于序列化\t\t\t\n",
        "for col in lenses_pd.columns:\t\t\t\t\t\t\t\t\t\t\t#序列化\n",
        "\tlenses_pd[col] = le.fit_transform(lenses_pd[col])\n",
        "print(lenses_pd)\t\t\t\t\t\t\t\t\t\t\t\t\t\t#打印编码信息\n",
        "\n"
      ],
      "execution_count": 4,
      "outputs": [
        {
          "output_type": "stream",
          "text": [
            "    proxSensor1  proxSensor  accelerometer\n",
            "0             0           0              1\n",
            "1             0           1              1\n",
            "2             0           2              1\n",
            "3             0           3              1\n",
            "4             0           0              0\n",
            "5             0           1              0\n",
            "6             0           2              0\n",
            "7             0           3              0\n",
            "8             1           0              1\n",
            "9             1           1              1\n",
            "10            1           2              1\n",
            "11            1           3              1\n",
            "12            1           0              0\n",
            "13            1           1              0\n",
            "14            1           2              0\n",
            "15            1           3              0\n",
            "16            2           0              1\n",
            "17            2           1              1\n",
            "18            2           2              1\n",
            "19            2           3              1\n",
            "20            2           0              0\n",
            "21            2           1              0\n",
            "22            2           2              0\n",
            "23            2           3              0\n",
            "24            3           0              1\n",
            "25            3           1              1\n",
            "26            3           2              1\n",
            "27            3           3              1\n",
            "28            3           0              0\n",
            "29            3           1              0\n",
            "30            3           2              0\n",
            "31            3           3              0\n"
          ],
          "name": "stdout"
        }
      ]
    },
    {
      "cell_type": "code",
      "metadata": {
        "id": "R-ym_wuKpBTA",
        "colab_type": "code",
        "colab": {
          "base_uri": "https://localhost:8080/",
          "height": 34
        },
        "outputId": "9848d03e-fc5d-49f1-f764-d2485a7335fa"
      },
      "source": [
        "clf = tree.DecisionTreeClassifier(max_depth = 4)\t\t\t\t\t\t#创建DecisionTreeClassifier()类\n",
        "clf = clf.fit(lenses_pd.values.tolist(), lenses_target)\t\t\t\t\t#使用数据，构建决策树\n",
        "\n",
        "dot_data = StringIO()\n",
        "tree.export_graphviz(clf, out_file = dot_data,\t\t\t\t\t\t\t#绘制决策树\n",
        "\t\t\t\t\tfeature_names = lenses_pd.keys(),\n",
        "\t\t\t\t\tclass_names = clf.classes_,\n",
        "\t\t\t\t\tfilled=True, rounded=True,\n",
        "\t\t\t\t\tspecial_characters=True)\n",
        "graph = pydotplus.graph_from_dot_data(dot_data.getvalue())\n",
        "graph.write_pdf(\"drive/My Drive/tree.pdf\")\t\t\t\t\t\t\t\t\t\t\t\t#保存绘制好的决策树，以PDF的形式存储。\n",
        "\n",
        "\t\t\t\t\t\t\t\t\t\t#预测"
      ],
      "execution_count": 5,
      "outputs": [
        {
          "output_type": "execute_result",
          "data": {
            "text/plain": [
              "True"
            ]
          },
          "metadata": {
            "tags": []
          },
          "execution_count": 5
        }
      ]
    },
    {
      "cell_type": "code",
      "metadata": {
        "id": "42NEFObeaLAZ",
        "colab_type": "code",
        "colab": {}
      },
      "source": [
        "print(clf.predict([[3,0,1,0]]))\t"
      ],
      "execution_count": null,
      "outputs": []
    },
    {
      "cell_type": "code",
      "metadata": {
        "id": "AoZ0ZdP2vjwP",
        "colab_type": "code",
        "colab": {}
      },
      "source": [
        "import pickle\n",
        "def storeTree(inputTree, filename):\n",
        "    '''\n",
        "    序列化决策树,存入文件\n",
        "    :param inputTree:\n",
        "    :param filename:\n",
        "    :return:\n",
        "    '''\n",
        "    \n",
        "    fw = open(filename,'wb')\n",
        "    pickle.dump(inputTree,fw)\n",
        "    fw.close()"
      ],
      "execution_count": 8,
      "outputs": []
    },
    {
      "cell_type": "code",
      "metadata": {
        "id": "p8F8ax1Hv-Cm",
        "colab_type": "code",
        "colab": {}
      },
      "source": [
        "treeFile = \"/drive/My Drive/tree\"\n",
        "storeTree(clf, r\"drive/My Drive/tree.txt\")"
      ],
      "execution_count": 9,
      "outputs": []
    },
    {
      "cell_type": "code",
      "metadata": {
        "id": "NA-iZJYG0A5t",
        "colab_type": "code",
        "colab": {}
      },
      "source": [
        "def grabTree(filename):\n",
        "    fr = open(filename, 'rb')\n",
        "    return pickle.load(fr)"
      ],
      "execution_count": null,
      "outputs": []
    },
    {
      "cell_type": "code",
      "metadata": {
        "id": "I_zaxSK50Cnk",
        "colab_type": "code",
        "colab": {
          "base_uri": "https://localhost:8080/",
          "height": 34
        },
        "outputId": "53b8f4ff-0a47-4478-d348-0306d1437107"
      },
      "source": [
        "mytree = grabTree(r\"drive/My Drive/tree.txt\")\n",
        "mytree.predict([[2,0,1,0]])"
      ],
      "execution_count": null,
      "outputs": [
        {
          "output_type": "execute_result",
          "data": {
            "text/plain": [
              "array(['hard'], dtype='<U9')"
            ]
          },
          "metadata": {
            "tags": []
          },
          "execution_count": 10
        }
      ]
    },
    {
      "cell_type": "code",
      "metadata": {
        "id": "ZfRnjDz00gDE",
        "colab_type": "code",
        "colab": {
          "base_uri": "https://localhost:8080/",
          "height": 119
        },
        "outputId": "40337685-f921-43fe-b885-ca4be9c23433"
      },
      "source": [
        "print(clf)"
      ],
      "execution_count": null,
      "outputs": [
        {
          "output_type": "stream",
          "text": [
            "DecisionTreeClassifier(ccp_alpha=0.0, class_weight=None, criterion='gini',\n",
            "                       max_depth=4, max_features=None, max_leaf_nodes=None,\n",
            "                       min_impurity_decrease=0.0, min_impurity_split=None,\n",
            "                       min_samples_leaf=1, min_samples_split=2,\n",
            "                       min_weight_fraction_leaf=0.0, presort='deprecated',\n",
            "                       random_state=None, splitter='best')\n"
          ],
          "name": "stdout"
        }
      ]
    }
  ]
}